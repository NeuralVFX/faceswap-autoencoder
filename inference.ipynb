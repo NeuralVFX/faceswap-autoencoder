{
  "nbformat": 4,
  "nbformat_minor": 0,
  "metadata": {
    "colab": {
      "name": "Untitled2.ipynb",
      "provenance": []
    },
    "kernelspec": {
      "name": "python3",
      "display_name": "Python 3"
    }
  },
  "cells": [
    {
      "cell_type": "markdown",
      "metadata": {
        "id": "GbB5F_PV5SH1"
      },
      "source": [
        "**Load Existing Model**"
      ]
    },
    {
      "cell_type": "code",
      "metadata": {
        "id": "iSc-9ck54S16"
      },
      "source": [
        "\n",
        "import sys\n",
        "import face_swap\n",
        "\n",
        "params = {'dataset_a': 'faceA',\n",
        "          'dataset_b': 'faceB',\n",
        "              'enc_att':True,\n",
        "              'dec_att':True,\n",
        "              'disc_att' :False,\n",
        "              'batch_size': 6,\n",
        "              'workers': 16,\n",
        "              'res': 128,\n",
        "              'res_layers_p': [2,6,9,14,17,20,23,26],\n",
        "              'res_layers_p_weight': [1, 1, 1,1,1,1,1,1],\n",
        "              'lr': 2e-4,\n",
        "              'disc_layers': 3,\n",
        "              'beta1': .5,\n",
        "              'beta2': .999,\n",
        "              'disc_perceptual_weight': 2.5,\n",
        "              'perceptual_weight': 2.5,\n",
        "              'edge_weight':.1,\n",
        "              'eye_weight':0,\n",
        "              'recon_weight': 3.,\n",
        "              'train_epoch': 201,\n",
        "              'ids_test': [0, 100],\n",
        "              'ids_train': [0, 2],\n",
        "              'save_every': 5,\n",
        "              'save_img_every': 1,\n",
        "              'lr_drop_start': 0,\n",
        "              'lr_drop_every': 40,\n",
        "              'save_root': 'test_a'}\n",
        "\n",
        "rev = face_swap.FaceSwap(params)"
      ],
      "execution_count": null,
      "outputs": []
    },
    {
      "cell_type": "code",
      "metadata": {
        "id": "rl_6PNRJ4YPW"
      },
      "source": [
        "# Replce the file name with a model you have trained\n",
        "rev.load_state(\"./output/face_swap_5.json\")\n"
      ],
      "execution_count": null,
      "outputs": []
    },
    {
      "cell_type": "markdown",
      "metadata": {
        "id": "Q_H0GPnI5Wyr"
      },
      "source": [
        "**Import Inference Files**"
      ]
    },
    {
      "cell_type": "code",
      "metadata": {
        "id": "NsOXmt4X4aK1"
      },
      "source": [
        "from converter.video_converter import VideoConverter\n",
        "from detector.face_detector import MTCNNFaceDetector\n",
        "import numpy as np\n",
        "\n",
        "\n",
        "############ FIX TO WORK WITH COLAB #####################\n",
        "# save np.load\n",
        "np_load_old = np.load\n",
        "# modify the default parameters of np.load\n",
        "np.load = lambda *a,**k: np_load_old(*a, allow_pickle=True, **k)\n",
        "#########################################################\n",
        "\n",
        "fd = MTCNNFaceDetector()\n",
        "vc = VideoConverter()\n",
        "vc.set_face_detector(fd)\n",
        "vc.set_gan_model(rev)\n",
        "\n",
        "# go back to old np.load\n",
        "np.load = np_load_old\n"
      ],
      "execution_count": null,
      "outputs": []
    },
    {
      "cell_type": "markdown",
      "metadata": {
        "id": "92LaaViZ5iDX"
      },
      "source": [
        "**Set Options**"
      ]
    },
    {
      "cell_type": "code",
      "metadata": {
        "id": "4_W2n_uo4bpu"
      },
      "source": [
        "options = {\n",
        "    # ===== Fixed =====\n",
        "    \"use_smoothed_bbox\": True,\n",
        "    \"use_kalman_filter\": True,\n",
        "    \"use_auto_downscaling\": False,\n",
        "    \"bbox_moving_avg_coef\": 0.65,\n",
        "    \"min_face_area\": 35 * 35,\n",
        "    \"IMAGE_SHAPE\": (128, 128, 3),\n",
        "    # ===== Tunable =====\n",
        "    \"kf_noise_coef\": 1e-3,\n",
        "    \"use_color_correction\": \"adain\",\n",
        "    \"detec_threshold\": 0.8,\n",
        "    \"roi_coverage\": 0.9,\n",
        "    \"enhance\": 0.,\n",
        "    \"output_type\": 3,\n",
        "    \"direction\": \"AtoB\", # ==================== This line determines the transform direction ====================\n",
        "}"
      ],
      "execution_count": null,
      "outputs": []
    },
    {
      "cell_type": "code",
      "metadata": {
        "id": "AlhiFzb64dYE"
      },
      "source": [
        "########### Replace these two lines with your files ##############\n",
        "fn_source_video = 'videos/gump.mp4'\n",
        "fn_target_video = 'videos/tom.mp4'\n",
        "\n",
        "if options[\"direction\"] == \"AtoB\":\n",
        "    input_fn = fn_source_video\n",
        "    output_fn = \"output/A_to_B_test.mp4\"\n",
        "elif options[\"direction\"] == \"BtoA\":\n",
        "    input_fn = fn_target_video\n",
        "    output_fn = \"output/B_to_A_test.mp4\"\n",
        "\n",
        "# Set the duration based on the clip you chose\n",
        "duration =  (140,180) # None or a non-negative float tuple: (start_sec, end_sec). Duration of input video to be converted"
      ],
      "execution_count": null,
      "outputs": []
    },
    {
      "cell_type": "markdown",
      "metadata": {
        "id": "rsk7G91k5lfh"
      },
      "source": [
        "**Run Inference**"
      ]
    },
    {
      "cell_type": "code",
      "metadata": {
        "id": "yKgzhNnc4fjf"
      },
      "source": [
        "vc.convert(input_fn=input_fn, output_fn=output_fn, options=options, duration=duration)\n"
      ],
      "execution_count": null,
      "outputs": []
    }
  ]
}